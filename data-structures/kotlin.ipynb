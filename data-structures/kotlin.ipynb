{
 "cells": [
  {
   "cell_type": "markdown",
   "metadata": {},
   "source": [
    "# Data Structures in Kotlin"
   ]
  },
  {
   "cell_type": "markdown",
   "metadata": {},
   "source": [
    "## Arrays\n",
    "### Intro\n",
    "* One of the most basic and fundamental data structures.\n",
    "* You access elements by index\n",
    "* Think of an array as a continuous block of memory\n",
    "\n",
    "### Properties\n",
    "* $O(1)$ Insert at the end\n",
    "* $O(1)$ Access\n",
    "* $O(n)$ Search\n",
    "    * You must loop through the array to find an element\n",
    "* $O(n)$ Remove\n",
    "\n",
    "### Example"
   ]
  },
  {
   "cell_type": "code",
   "execution_count": 5,
   "metadata": {},
   "outputs": [
    {
     "name": "stdout",
     "output_type": "stream",
     "text": [
      "8,0,5,0,0,"
     ]
    }
   ],
   "source": [
    "val arrExample: Array<Int> = Array<Int>(5) {0}\n",
    "arrExample[0] = 8\n",
    "arrExample[2] = 5\n",
    "\n",
    "for (value in arrExample) {\n",
    "    print(\"$value,\")\n",
    "}"
   ]
  },
  {
   "cell_type": "markdown",
   "metadata": {},
   "source": [
    "## Linked List\n",
    "\n",
    "### Intro\n",
    "\n",
    "![Linked List](../res/linked_list_intro.png)\n",
    "\n",
    "* A data structure consisting of a group of nodes which together represent a sequence\n",
    "* Each node is composed of data and a reference (link) to the next node in the sequence\n",
    "    * A doubly linked list will have a reference to the next and previous nodes\n",
    "* Often used as the underlying structure for List data types, Stacks, and Queues\n",
    "\n",
    "### Properties\n",
    "* $O(n)$ Search\n",
    "* $O(1)$ Insert\n",
    "    * ...if we insert wherever we have a reference to\n",
    "    * Inserting to somewhere in the middle of the list is $O(n)$\n",
    "* $O(n)$ Remove\n",
    "    * ...unless we're removing at the head or wherever we have a reference to, then it's $O(1)$\n",
    "\n",
    "### Implementation"
   ]
  },
  {
   "cell_type": "code",
   "execution_count": 7,
   "metadata": {},
   "outputs": [
    {
     "name": "stdout",
     "output_type": "stream",
     "text": [
      "22 -> 2 -> 77 -> 6 -> 43 -> "
     ]
    }
   ],
   "source": [
    "class LinkedListNode<T>(var data: T, var next: LinkedListNode<T>?)\n",
    "\n",
    "val head: LinkedListNode<Int>? = LinkedListNode<Int>(22,null)\n",
    "var curNode = head\n",
    "head!!.next = LinkedListNode(2, LinkedListNode(77, null))\n",
    "curNode = head!!.next!!.next!!\n",
    "curNode!!.next = LinkedListNode(6, LinkedListNode(43, null))\n",
    "curNode = head\n",
    "\n",
    "while (curNode != null) {\n",
    "    print(\"${curNode!!.data} -> \")\n",
    "    curNode = curNode!!.next\n",
    "}\n"
   ]
  },
  {
   "cell_type": "markdown",
   "metadata": {},
   "source": [
    "## Disjoint Sets\n",
    "\n",
    "Good resource at [GeeksForGeeks](https://www.geeksforgeeks.org/disjoint-set-data-structures/)"
   ]
  },
  {
   "cell_type": "markdown",
   "metadata": {},
   "source": [
    "## Stacks"
   ]
  },
  {
   "cell_type": "markdown",
   "metadata": {},
   "source": [
    "## Queues"
   ]
  },
  {
   "cell_type": "markdown",
   "metadata": {},
   "source": [
    "## Maps & Hash Tables"
   ]
  },
  {
   "cell_type": "markdown",
   "metadata": {},
   "source": [
    "## Graphs"
   ]
  },
  {
   "cell_type": "markdown",
   "metadata": {},
   "source": [
    "## Trees"
   ]
  },
  {
   "cell_type": "markdown",
   "metadata": {},
   "source": [
    "## Binary Trees & Binary Search Trees"
   ]
  },
  {
   "cell_type": "markdown",
   "metadata": {},
   "source": [
    "## AVL Trees"
   ]
  },
  {
   "cell_type": "markdown",
   "metadata": {},
   "source": [
    "## Heaps"
   ]
  },
  {
   "cell_type": "markdown",
   "metadata": {},
   "source": [
    "## Minimum Spanning Trees"
   ]
  },
  {
   "cell_type": "code",
   "execution_count": null,
   "metadata": {},
   "outputs": [],
   "source": []
  }
 ],
 "metadata": {
  "kernelspec": {
   "display_name": "Kotlin",
   "language": "kotlin",
   "name": "kotlin"
  },
  "language_info": {
   "codemirror_mode": "text/x-kotlin",
   "file_extension": ".kt",
   "mimetype": "text/x-kotlin",
   "name": "kotlin",
   "pygments_lexer": "kotlin",
   "version": "1.4.20-dev-2342"
  }
 },
 "nbformat": 4,
 "nbformat_minor": 4
}
