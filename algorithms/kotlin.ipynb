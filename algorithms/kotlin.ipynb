{
 "cells": [
  {
   "cell_type": "markdown",
   "metadata": {},
   "source": [
    "# Algorithms in Kotlin"
   ]
  },
  {
   "cell_type": "markdown",
   "metadata": {},
   "source": [
    "**TIP**: Whenever you're resorting to a brute force algorithm, try to see if you can identify cases/conditions which cannot be valid so that you filter them out and save processing time"
   ]
  },
  {
   "cell_type": "markdown",
   "metadata": {},
   "source": [
    "## Binary Search\n",
    "\n",
    "### Intro\n",
    "\n",
    "* Only works on sorted data\n",
    "* You continuosly divide the array in two halves and compare your search value with the middle element's value. \n",
    "    * If they are equal, the search is finished. \n",
    "    * If your value is bigger/smaller than the middle value, the search should continue on the right/left half\n",
    "* Runs in $O(log(N))$ time\n",
    "\n",
    "### Implementation"
   ]
  },
  {
   "cell_type": "code",
   "execution_count": 4,
   "metadata": {},
   "outputs": [
    {
     "name": "stdout",
     "output_type": "stream",
     "text": [
      "Middle: 4\n",
      "Middle: 2\n",
      "Success!\n",
      "\n",
      "Middle: 6\n",
      "Middle: 9\n",
      "Middle: 11\n",
      "Middle: 12\n",
      "Success!\n",
      "\n",
      "Middle: 6\n",
      "Middle: 3\n",
      "Middle: 4\n",
      "Middle: 5\n",
      "Success!\n",
      "\n"
     ]
    }
   ],
   "source": [
    "/**\n",
    " * Return index of the search element, -1 if the element is not found\n",
    " */\n",
    "fun binarySearch(arr: Array<Int>, element: Int)  : Int {\n",
    "    var lowerbound = 0\n",
    "    var upperbound = arr.size - 1\n",
    "    \n",
    "    while (lowerbound + 1 < upperbound) {\n",
    "        val middle = lowerbound + (upperbound - lowerbound) / 2;\n",
    "        println(\"Middle: $middle\")\n",
    "        if (arr[middle] == element) {\n",
    "            return middle;\n",
    "        } else if (arr[middle] > element) {\n",
    "            upperbound = middle;\n",
    "        } else if (arr[middle] < element) {\n",
    "            lowerbound = middle;\n",
    "        }\n",
    "    }\n",
    "    \n",
    "    return -1\n",
    "}\n",
    "\n",
    "fun testBinarySearch(arr: Array<Int>, element: Int, expectIndex: Int) {\n",
    "    val result = binarySearch(arr, element)\n",
    "    if (result == expectIndex) {\n",
    "        println(\"Success!\")\n",
    "    } else {\n",
    "        println(\"Failed\")\n",
    "    }\n",
    "    println()\n",
    "}\n",
    "\n",
    "testBinarySearch(arrayOf(1,2,3,4,5,6,7,8,9), 3, 2)\n",
    "testBinarySearch(arrayOf(4, 9, 16, 100, 124, 325, 403, 414, 415, 892, 900, 947, 987, 1000), 987, 12)\n",
    "testBinarySearch(arrayOf(4, 9, 16, 100, 124, 325, 403, 414, 415, 892, 900, 947, 987, 1000), 127, -1)"
   ]
  },
  {
   "cell_type": "markdown",
   "metadata": {},
   "source": [
    "## Greedy\n",
    "\n",
    "### Intro\n",
    "\n",
    "* The Greedy method is mostly used for problems that require optimization and the local optimal solution leads to the global optimal solution\n",
    "* The optimal solution at each step leads to the overall optimal solution\n",
    "    * i.e. you try to find the best possible outcome at a smaller scale, and then build up on that to find the best possible outcome at the next scale until you reach the goal\n",
    "\n",
    "### Example: Fractional Knapsack Problem\n",
    "\n",
    "* Given weights and values of `n` items, we need to put these items in a knapsack of capacity `W` to get the maximum total value in the knapsack\n",
    "    * taking pieces of items is allowed, the value of a piece is proportional to its weight\n",
    "* The approach is to sort all the items on basis of their `value / weight` ratio\n",
    "* Then we can add as many whole items as we can\n",
    "* In the moment we find an item heavier `(w2)` than our abailable weight left in the knapsack `(w1)`, we will fractionate it and take only `w2 - w1` of it to maximize our profit"
   ]
  },
  {
   "cell_type": "markdown",
   "metadata": {},
   "source": [
    "## Dynamic Programming\n",
    "\n",
    "### Intro\n",
    "\n",
    "* Dynamic Programming is mainly an optimization over plain recursion.\n",
    "* Wherever we see a recursive solution that has repeated calls for the sameinputs, we can store the results of subproblems so that we do not have to re-compute them when needed later.\n",
    "* This optimization reduces time complexities from exponential to polynomial.\n",
    "\n",
    "### Example: Fibonacci Numbers\n"
   ]
  },
  {
   "cell_type": "code",
   "execution_count": 8,
   "metadata": {},
   "outputs": [
    {
     "name": "stdout",
     "output_type": "stream",
     "text": [
      "n: 5, fib(n): 5, Success!\n",
      "\n",
      "n: 10, fib(n): 55, Success!\n",
      "\n"
     ]
    }
   ],
   "source": [
    "val fibonacciTable = mutableListOf<Long>()\n",
    "fibonacciTable.add(0)\n",
    "fibonacciTable.add(1)\n",
    "\n",
    "fun computeFibonacci(n: Int) : Long {\n",
    "    if (fibonacciTable.size - 1 >= n) {\n",
    "        return fibonacciTable.get(n).toLong()\n",
    "    }\n",
    "    \n",
    "    val result = computeFibonacci(n-1) + computeFibonacci(n-2)\n",
    "    fibonacciTable.add(n, result)\n",
    "    return result\n",
    "}\n",
    "\n",
    "fun testFibonacci(n: Int, expected: Long) {\n",
    "    val result = computeFibonacci(n)\n",
    "    if (result == expected) {\n",
    "        println(\"n: $n, fib(n): $result, Success!\")\n",
    "    } else {\n",
    "        println(\"n: $n, fib(n): $result, Failed!\")\n",
    "    }\n",
    "    \n",
    "    println()\n",
    "}\n",
    "\n",
    "testFibonacci(5, 5)\n",
    "testFibonacci(10, 55)"
   ]
  },
  {
   "cell_type": "markdown",
   "metadata": {},
   "source": [
    "## Graph Traversals (Breadth-First Search, Depth-First Search)\n",
    "\n",
    "### Breadth-First Search\n",
    "\n",
    "* One of the most common ways to determine if a graph is connected or not\n",
    "* Also used to compute the shortest distance between the source node and all other nodes measured by number of edges\n",
    "\n",
    "#### Algorithm\n",
    "\n",
    "* Start by visiting the source node and pushing all of its neighbours into a queue\n",
    "* Pop the first element from the queue, visit all of its neighbours and push the ones that were not previously visited onto the queue\n",
    "* Repeat this process until the queue is empty\n",
    "* When the queue becomes empty, it means that all the reachable vertices have been visited and the algorithm ends\n",
    "\n",
    "### Depth-First Search\n",
    "\n",
    "* The best option to check the connectivity of a graph\n",
    "* To do a complete DFS traversal of a disconnected graph, run DFS from all unvisited nodes after a DFS\n",
    "\n",
    "#### Algorithm\n",
    "\n",
    "* Start by visiting the root node and push it onto a stack\n",
    "* While the stack is not empty, pop the node at the top\n",
    "* if the node has any unvisited neighbours, one of them is chosen and pushed onto the stack\n",
    "* If all of its neighbours have been visited, we pop the node\n",
    "* When the stack becomes empty, the algorithm ends\n"
   ]
  },
  {
   "cell_type": "markdown",
   "metadata": {},
   "source": [
    "## Dijkstra's  Shortest Path Algorithm \n",
    "\n",
    "* NOTE: This algorithm does not work for graphs with negative weight edges\n",
    "* The goal is to find the shortest path from the source to all vertices in the graph\n",
    "* Similar to Prim's algorithm for a MST\n",
    "\n",
    "### Idea\n",
    "\n",
    "* Create a set *sptSet* (Shortest Path Tree Set) that keeps track of vertices included in the shortest path tree\n",
    "* Assign a distance value to all vertices in the graph. Initialize all values as INFINITE, assign a value of 0 to the source vertex\n",
    "* While *sptSet* does not include all vertices\n",
    "    * Pick a vertex `u` which is not in the set and has minimum distance value\n",
    "    * Include `u` in the set\n",
    "    * Update the distance value of all adjacent vertices if `u`\n",
    "        * for every adjacent vertex `v`m if the sum of the distance value of `u` (from source) and weight of edge `u-v` is less than the distance value of `v`, then update the distance value of `v`"
   ]
  },
  {
   "cell_type": "markdown",
   "metadata": {},
   "source": [
    "## Bellman-Ford Shortest Path Algorithm\n",
    "\n",
    "* Well suited for distributed systems\n",
    "* Simpler than Dijkstra\n",
    "* Given a weighted graph, we can check if it containsa negative cycle. If not, then we can also find the minimum distances from our source to the other vertices.\n",
    "\n",
    "### Algorithm\n",
    "\n",
    "* Initialize a distance vector, everything set to infinite except for the source node which has value 0\n",
    "* for each `(x,y)` edge\n",
    "    * if `distance[y] > (distance[x] + weight of (x,y))` then we update `distance[y]` with it"
   ]
  },
  {
   "cell_type": "markdown",
   "metadata": {},
   "source": [
    "## Prim's Algorithm for a Minimum Spanning Tree\n",
    "\n",
    "### Idea\n",
    "\n",
    "* Start with an empty spanning tree\n",
    "* Maintain two sets of vertices\n",
    "    * The first set contains the vertices already included in the Minimum Spanning Tree\n",
    "    * The other set contains vertices not yet included in the MST\n",
    "* At every step, consider all of the edges that connect the two sets and pick the minimum weight edge from these edges\n",
    "* After picking the edge, move the vertex on the other endpoint of the edge into the set containing vertices in the MST"
   ]
  },
  {
   "cell_type": "markdown",
   "metadata": {},
   "source": [
    "## Kruskal's Algorithm for a Minimum Spanning Tree\n",
    "\n",
    "### Algorithm\n",
    "\n",
    "* Sort all edges in non-decreasing order of their weight\n",
    "* Pick the smallest edge. Check if it forms a cycle with the spanning tree formed so far.\n",
    "    * If a cycle is not formed, include this edge. Else, discard it\n",
    "    * **A Depth First Traversal can be used to detect a cycle in a graph**\n",
    "* Repeat until there are `V - 1` edges in the spanning tree\n",
    "    * where `V` is the number of vertices\n"
   ]
  },
  {
   "cell_type": "markdown",
   "metadata": {},
   "source": [
    "## Traveling Salesman"
   ]
  },
  {
   "cell_type": "markdown",
   "metadata": {},
   "source": [
    "## Longest Common Subsequence"
   ]
  },
  {
   "cell_type": "markdown",
   "metadata": {},
   "source": [
    "## Bloom Filter"
   ]
  },
  {
   "cell_type": "code",
   "execution_count": null,
   "metadata": {},
   "outputs": [],
   "source": []
  }
 ],
 "metadata": {
  "kernelspec": {
   "display_name": "Kotlin",
   "language": "kotlin",
   "name": "kotlin"
  },
  "language_info": {
   "codemirror_mode": "text/x-kotlin",
   "file_extension": ".kt",
   "mimetype": "text/x-kotlin",
   "name": "kotlin",
   "pygments_lexer": "kotlin",
   "version": "1.4.20-dev-2342"
  }
 },
 "nbformat": 4,
 "nbformat_minor": 4
}
