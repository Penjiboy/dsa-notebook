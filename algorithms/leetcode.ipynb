{
 "cells": [
  {
   "cell_type": "markdown",
   "metadata": {},
   "source": [
    "# Leetcode Problems in Kotlin"
   ]
  },
  {
   "cell_type": "markdown",
   "metadata": {},
   "source": [
    "## 11. Container With Most Water\n",
    "\n",
    "https://leetcode.com/problems/container-with-most-water/\n",
    "\n",
    "Given `n` non-negative integers `a1, a2, ..., an` , where each represents a point at coordinate `(i, ai)`. `n` vertical lines are drawn such that the two endpoints of the line `i` is at `(i, ai)` and `(i, 0)`. Find two lines, which, together with the x-axis forms a container, such that the container contains the most water.\n",
    "\n",
    "Notice that you may not slant the container."
   ]
  },
  {
   "cell_type": "markdown",
   "metadata": {},
   "source": [
    "### Main Idea: Two Pointer\n",
    "We want to have one pointer start at the beginning, the other start at the end of the array, and keep track of the maximum area we've seen. In each iteration, compute the area and check to see if it is greater than what we've already found. Then, we want to move the index with the shorter height further into the array.\n",
    "\n",
    "$O(n)$ running time, $O(1)$ space"
   ]
  },
  {
   "cell_type": "code",
   "execution_count": 2,
   "metadata": {},
   "outputs": [
    {
     "name": "stdout",
     "output_type": "stream",
     "text": [
      "Input: 1,8,6,2,5,4,8,3,7\n",
      "Expected: 49 | Actual: 49\n",
      "Input: 1,1\n",
      "Expected: 1 | Actual: 1\n",
      "Input: 4,3,2,1,4\n",
      "Expected: 16 | Actual: 16\n",
      "Input: 1,2,1\n",
      "Expected: 2 | Actual: 2\n",
      "Input: 0,2\n",
      "Expected: 0 | Actual: 0\n",
      "Input: 2,3,4,5,18,17,6\n",
      "Expected: 17 | Actual: 17\n"
     ]
    }
   ],
   "source": [
    "class Solution11() {\n",
    "    fun maxArea(height: Array<Int>) : Int {\n",
    "        var currentMax = 0\n",
    "        var left = 0\n",
    "        var right = height.size - 1\n",
    "        \n",
    "        while (left < right) {\n",
    "            val width = right - left\n",
    "            val minHeight = if (height[left] <= height[right]) height[left] else height[right]\n",
    "            val area = width * minHeight\n",
    "            \n",
    "            if (area > currentMax) {\n",
    "                currentMax = area;\n",
    "            }\n",
    "            \n",
    "            if (minHeight == height[left]) {\n",
    "                left++\n",
    "            } else {\n",
    "                right--\n",
    "            }\n",
    "        }\n",
    "        \n",
    "        return currentMax\n",
    "    }\n",
    "    \n",
    "    fun test() {\n",
    "        var height = arrayOf(1,8,6,2,5,4,8,3,7)\n",
    "        checkResult(height, maxArea(height), 49)\n",
    "        \n",
    "        height = arrayOf(1,1)\n",
    "        checkResult(height, maxArea(height), 1)\n",
    "        \n",
    "        height = arrayOf(4,3,2,1,4)\n",
    "        checkResult(height, maxArea(height), 16)\n",
    "        \n",
    "        height = arrayOf(1,2,1)\n",
    "        checkResult(height, maxArea(height), 2)\n",
    "        \n",
    "        height = arrayOf(0,2)\n",
    "        checkResult(height, maxArea(height), 0)\n",
    "        \n",
    "        height = arrayOf(2,3,4,5,18,17,6)\n",
    "        checkResult(height, maxArea(height), 17)        \n",
    "    }\n",
    "    \n",
    "    fun checkResult(height: Array<Int>, result: Int, expected: Int) {\n",
    "        println(\"Input: ${height.joinToString(\",\")}\")\n",
    "        println(\"Expected: $expected | Actual: $result\")\n",
    "    }\n",
    "}\n",
    "\n",
    "val sol11 = Solution11()\n",
    "sol11.test()"
   ]
  },
  {
   "cell_type": "code",
   "execution_count": null,
   "metadata": {},
   "outputs": [],
   "source": []
  }
 ],
 "metadata": {
  "kernelspec": {
   "display_name": "Kotlin",
   "language": "kotlin",
   "name": "kotlin"
  },
  "language_info": {
   "codemirror_mode": "text/x-kotlin",
   "file_extension": ".kt",
   "mimetype": "text/x-kotlin",
   "name": "kotlin",
   "pygments_lexer": "kotlin",
   "version": "1.4.20-dev-2342"
  }
 },
 "nbformat": 4,
 "nbformat_minor": 4
}
