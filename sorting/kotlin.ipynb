{
 "cells": [
  {
   "cell_type": "markdown",
   "metadata": {},
   "source": [
    "# Sorting Algorithms in Kotlin"
   ]
  },
  {
   "cell_type": "code",
   "execution_count": 5,
   "metadata": {},
   "outputs": [],
   "source": [
    "fun sort(algorithm : (input: Array<Int>) -> Unit, arr: Array<Int>) {\n",
    "    println(\"Unsorted: ${arr.joinToString(\",\")}\")\n",
    "    algorithm.invoke(arr)\n",
    "    println(\"Sorted: ${arr.joinToString(\",\")}\")\n",
    "}"
   ]
  },
  {
   "cell_type": "markdown",
   "metadata": {},
   "source": [
    "## Insertion Sort\n",
    "\n",
    "Probably the OG algorithm I first learnt. \n",
    "* $O(n^2)$ worst case running time, $O(n)$ best case running time. \n",
    "* It does the sorting in-place so $O(1)$ space\n",
    "\n",
    "### Idea\n",
    "\n",
    "* Start from index 1, in each iteration you check to make sure that the current index is greater than the element before it.\n",
    "* If it is greater, then you move on to the next index\n",
    "* If it is smaller, then you swap the two numbers and you check again for the index before that\n",
    "\n",
    "### Implementation"
   ]
  },
  {
   "cell_type": "code",
   "execution_count": 8,
   "metadata": {},
   "outputs": [
    {
     "name": "stdout",
     "output_type": "stream",
     "text": [
      "Unsorted: 38,27,43,3,9,82,10\n",
      "Sorted: 3,9,10,27,38,43,82\n"
     ]
    }
   ],
   "source": [
    "fun insertionSort(arr: Array<Int>) {\n",
    "    for (i in 1 until arr.size) {\n",
    "        val current = arr[i]\n",
    "        var j = i\n",
    "        \n",
    "        while (j > 0 && arr[j-1] > current) {\n",
    "            arr[j] = arr[j-1]\n",
    "            j--\n",
    "        }\n",
    "        \n",
    "        arr[j] = current\n",
    "    }\n",
    "}\n",
    "\n",
    "sort(::insertionSort, arrayOf(38,27,43,3,9,82,10))"
   ]
  },
  {
   "cell_type": "markdown",
   "metadata": {},
   "source": [
    "## Merge Sort\n",
    "\n",
    "For some reason, this one seems to elude me.\n",
    "\n",
    "* $O(nlog(n))$ best and worst case\n",
    "* $O(n)$ space usage\n",
    "\n",
    "### Idea\n",
    "\n",
    "We recursively divide the array into two, sort the individual halves, then combine the result\n",
    "\n",
    "### Implementation"
   ]
  },
  {
   "cell_type": "code",
   "execution_count": 18,
   "metadata": {},
   "outputs": [
    {
     "name": "stdout",
     "output_type": "stream",
     "text": [
      "Unsorted: 38,27,43,3,9,82,10\n",
      "Sorted: 3,9,10,27,38,43,82\n"
     ]
    }
   ],
   "source": [
    "fun merge(arr: Array<Int>, left: Int, middle: Int, right: Int) {\n",
    "    val sizeLeft = middle - left + 1\n",
    "    val sizeRight = right - middle\n",
    "    \n",
    "    // copy the left and right halves into separate arrays\n",
    "    val arrLeft = Array<Int>(sizeLeft) { i -> arr[left + i]}\n",
    "    val arrRight = Array<Int>(sizeRight) { i -> arr[middle + 1 + i]}\n",
    "    \n",
    "    // merge the two subarrays back into the main array\n",
    "    var leftIndex = 0\n",
    "    var rightIndex = 0\n",
    "    var arrIndex = left\n",
    "    while (leftIndex < sizeLeft && rightIndex < sizeRight) {\n",
    "        if (arrLeft[leftIndex] < arrRight[rightIndex]) {\n",
    "            arr[arrIndex++] = arrLeft[leftIndex++]\n",
    "        } else {\n",
    "            arr[arrIndex++] = arrRight[rightIndex++]\n",
    "        }\n",
    "    }\n",
    "    \n",
    "    // finish off merging whichever sub array has elements left\n",
    "    while (leftIndex < sizeLeft) {\n",
    "        arr[arrIndex++] = arrLeft[leftIndex++]\n",
    "    }\n",
    "    \n",
    "    while (rightIndex < sizeRight) {\n",
    "        arr[arrIndex++] = arrRight[rightIndex++]\n",
    "    }\n",
    "}\n",
    "\n",
    "fun mergeSort(arr: Array<Int>, left: Int, right: Int) {\n",
    "    if (left < right) {\n",
    "        val mid = (left + right) / 2\n",
    "        mergeSort(arr, left, mid)\n",
    "        mergeSort(arr, mid + 1, right)\n",
    "        merge(arr, left, mid, right)    \n",
    "    }\n",
    "    \n",
    "}\n",
    "\n",
    "sort({ arr: Array<Int> -> mergeSort(arr, 0, arr.size - 1)}, arrayOf(38,27,43,3,9,82,10))"
   ]
  },
  {
   "cell_type": "markdown",
   "metadata": {},
   "source": [
    "## Heap Sort\n",
    "\n",
    "This has also been a tricky one. Essentially we need to understand how to build and maintain heaps.\n",
    "\n",
    "* $O(nlog(n))$ running time\n",
    "* $O(n)$ space\n",
    "\n",
    "### Idea\n",
    "\n",
    "* Build a max heap by repeatedly inserting elements\n",
    "* repeatedly extract the max and store it right at very end of the array\n",
    "\n",
    "### Implementation"
   ]
  },
  {
   "cell_type": "code",
   "execution_count": 23,
   "metadata": {},
   "outputs": [
    {
     "name": "stdout",
     "output_type": "stream",
     "text": [
      "Unsorted: 38,27,43,3,9,82,10\n",
      "Sorted: 3,9,10,27,38,43,82\n"
     ]
    }
   ],
   "source": [
    "fun heapifyUp(heap: Array<Int>, nodeIndex: Int, heapSize: Int) {\n",
    "    if (nodeIndex == 0) {\n",
    "        return\n",
    "    }\n",
    "    \n",
    "    val parentIndex = if (nodeIndex % 2 == 0) (nodeIndex / 2) - 1 else nodeIndex / 2\n",
    "    \n",
    "    if (heap[nodeIndex] > heap[parentIndex]) {\n",
    "        // swap the child and parent\n",
    "        val tmpVal = heap[nodeIndex]\n",
    "        heap[nodeIndex] = heap[parentIndex]\n",
    "        heap[parentIndex] = tmpVal\n",
    "        \n",
    "        // call heapify on the new index\n",
    "        heapifyUp(heap, parentIndex, heapSize)\n",
    "    }\n",
    "    \n",
    "    // call heapify down, although it might not even be necessary?\n",
    "    // sorting seems to work without calling heapifyDown here\n",
    "//     heapifyDown(heap, nodeIndex, heapSize)\n",
    "}\n",
    "\n",
    "fun heapifyDown(heap: Array<Int>, nodeIndex: Int, heapSize: Int) {\n",
    "    val leftChildIndex = (nodeIndex * 2) + 1\n",
    "    val rightChildIndex = (nodeIndex * 2) + 2\n",
    "    \n",
    "    // check with the two children is larger, \n",
    "    // swap the parent with the larger child if the child is greater than the parent\n",
    "    if (rightChildIndex < heapSize \n",
    "        && heap[rightChildIndex] > heap[leftChildIndex] \n",
    "        && heap[rightChildIndex] > heap[nodeIndex]) {\n",
    "        \n",
    "        // swap the parent and the right child\n",
    "        val tmpVal = heap[nodeIndex]\n",
    "        heap[nodeIndex] = heap[rightChildIndex]\n",
    "        heap[rightChildIndex] = tmpVal\n",
    "        \n",
    "        heapifyDown(heap, rightChildIndex, heapSize)\n",
    "    } else if (leftChildIndex < heapSize && heap[leftChildIndex] > heap[nodeIndex]) {\n",
    "        // swap the parent and the left child\n",
    "        val tmpVal = heap[nodeIndex]\n",
    "        heap[nodeIndex] = heap[leftChildIndex]\n",
    "        heap[leftChildIndex] = tmpVal\n",
    "    }\n",
    "}\n",
    "\n",
    "fun heapSort(arr: Array<Int>) {\n",
    "    val tempHeap = Array<Int>(arr.size) { i -> arr[i] }\n",
    "    var tempHeapSize = 0\n",
    "    \n",
    "    // build the heap\n",
    "    for (i in 0 until arr.size) {\n",
    "        tempHeapSize++\n",
    "        heapifyUp(tempHeap, i, tempHeapSize)\n",
    "    }\n",
    "    \n",
    "    // repeatedly extractMax, place it at the end of the array\n",
    "    while (tempHeapSize > 1) {\n",
    "        val currentMax = tempHeap[0]\n",
    "        tempHeap[0] = tempHeap[tempHeapSize - 1]\n",
    "        tempHeap[--tempHeapSize] = currentMax\n",
    "        heapifyDown(tempHeap, 0, tempHeapSize)\n",
    "    }\n",
    "    \n",
    "    // copy the temp heap into the original array\n",
    "    for (i in arr.indices) {\n",
    "        arr[i] = tempHeap[i]\n",
    "    }\n",
    "}\n",
    "\n",
    "sort(::heapSort, arrayOf(38,27,43,3,9,82,10))"
   ]
  },
  {
   "cell_type": "code",
   "execution_count": null,
   "metadata": {},
   "outputs": [],
   "source": []
  }
 ],
 "metadata": {
  "kernelspec": {
   "display_name": "Kotlin",
   "language": "kotlin",
   "name": "kotlin"
  },
  "language_info": {
   "codemirror_mode": "text/x-kotlin",
   "file_extension": ".kt",
   "mimetype": "text/x-kotlin",
   "name": "kotlin",
   "pygments_lexer": "kotlin",
   "version": "1.4.20-dev-2342"
  }
 },
 "nbformat": 4,
 "nbformat_minor": 4
}
